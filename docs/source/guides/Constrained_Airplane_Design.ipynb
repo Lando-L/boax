{
 "cells": [
  {
   "cell_type": "markdown",
   "id": "8479a1ce",
   "metadata": {},
   "source": [
    "# Constrained Airplane Design\n",
    "\n",
    "In this notebook we simulate the design of an airplane's component using constrained bayesian optimsation.\n",
    "\n",
    "We will begin by defining the latent objective function as well as the latent cost function."
   ]
  },
  {
   "cell_type": "code",
   "execution_count": null,
   "id": "efbc76ff-cfb7-4716-b5ad-0e11ea0a2861",
   "metadata": {},
   "outputs": [],
   "source": [
    "from jax import config\n",
    "\n",
    "# Double precision is highly recommended.\n",
    "config.update(\"jax_enable_x64\", True)\n",
    "\n",
    "from jax import jit\n",
    "from jax import lax\n",
    "from jax import nn\n",
    "from jax import numpy as jnp\n",
    "from jax import random\n",
    "from jax import value_and_grad\n",
    "\n",
    "import optax\n",
    "\n",
    "from boax import prediction, optimization\n",
    "from boax.core import distributions, samplers\n",
    "from boax.prediction import kernels, likelihoods, means, models, objectives\n",
    "from boax.optimization import acquisitions, constraints, optimizers"
   ]
  },
  {
   "cell_type": "code",
   "execution_count": null,
   "id": "67fdd6b2-9310-4344-88a4-14f8549801e5",
   "metadata": {},
   "outputs": [],
   "source": [
    "bounds = jnp.array([[0.0, 1.0]] * 4)"
   ]
  },
  {
   "cell_type": "code",
   "execution_count": null,
   "id": "22efb24e-622f-4f6a-b71c-9565929161dd",
   "metadata": {},
   "outputs": [],
   "source": [
    "def objective(x):\n",
    "    next_x = x.at[:, [2, 3]].set(1 - x[:, [2, 3]]) * 10 - 5\n",
    "    return -0.005 * jnp.sum(next_x**4 - 16 * next_x**2 + 5 * next_x, axis=-1) + 3"
   ]
  },
  {
   "cell_type": "code",
   "execution_count": null,
   "id": "556bd234-44a7-402d-a4c0-80a4e7f44afe",
   "metadata": {},
   "outputs": [],
   "source": [
    "def cost(x):\n",
    "    i = jnp.arange(2, 5)\n",
    "    next_x = x * 20 - 10\n",
    "    part1 = (next_x[..., 0] - 1)**2\n",
    "    part2 = jnp.sum(i * (2 * next_x[..., 1:]**2 - next_x[..., :-1])**2, axis=-1)\n",
    "\n",
    "    return -(part1 + part2) / 100_000 + 2"
   ]
  },
  {
   "cell_type": "code",
   "execution_count": null,
   "id": "57fe3b84-1040-4e22-a666-0b9da2bcc756",
   "metadata": {},
   "outputs": [],
   "source": [
    "data_key, sampler_key, optimizer_key = random.split(random.key(0), 3)\n",
    "x_train = random.uniform(random.key(0), minval=bounds[:, 0], maxval=bounds[:, 1], shape=(10, 4))\n",
    "y_train = objective(x_train)\n",
    "c_train = cost(x_train)"
   ]
  },
  {
   "cell_type": "code",
   "execution_count": null,
   "id": "0d1c25ff-3faa-45e0-ada7-664f7cc895cb",
   "metadata": {},
   "outputs": [],
   "source": [
    "params = {\n",
    "    'mean': jnp.zeros(()),\n",
    "    'length_scale': jnp.zeros((4,)),\n",
    "    'amplitude': jnp.zeros(()),\n",
    "}"
   ]
  },
  {
   "cell_type": "code",
   "execution_count": null,
   "id": "158a163e-a9f1-4024-9bc8-476f434da558",
   "metadata": {},
   "outputs": [],
   "source": [
    "adam = optax.adam(0.01)"
   ]
  },
  {
   "cell_type": "code",
   "execution_count": null,
   "id": "b28439dd-7651-4087-83b3-85d38e4235b6",
   "metadata": {},
   "outputs": [],
   "source": [
    "def fit(x_train, y_train):\n",
    "    def model(params):\n",
    "        return models.outcome_transformed(\n",
    "            models.gaussian_process(\n",
    "                means.constant(params['mean']),\n",
    "                kernels.scaled(\n",
    "                    kernels.matern_five_halves(params['length_scale']),\n",
    "                    params['amplitude'],\n",
    "                ),\n",
    "            ),\n",
    "            likelihoods.gaussian(1e-4)\n",
    "        )\n",
    "\n",
    "    def objective(params):\n",
    "        return objectives.negative_log_likelihood(\n",
    "            distributions.multivariate_normal.logpdf\n",
    "        )\n",
    "\n",
    "    def projection(params):\n",
    "        return {\n",
    "            'mean': params['mean'],\n",
    "            'amplitude': nn.softplus(params['amplitude']),\n",
    "            'length_scale': nn.softplus(params['length_scale']),\n",
    "        }\n",
    "        \n",
    "    def step(state, iteration):\n",
    "        loss_fn = prediction.construct(model, objective, projection)\n",
    "        loss, grads = value_and_grad(loss_fn)(state[0], x_train, y_train)\n",
    "        updates, opt_state = adam.update(grads, state[1])\n",
    "        params = optax.apply_updates(state[0], updates)\n",
    "        \n",
    "        return (params, opt_state), loss\n",
    "    \n",
    "    (next_params, _), _ = lax.scan(\n",
    "        jit(step),\n",
    "        (params, adam.init(params)),\n",
    "        jnp.arange(500)\n",
    "    )\n",
    "\n",
    "    return projection(next_params)"
   ]
  },
  {
   "cell_type": "code",
   "execution_count": null,
   "id": "692dc450-bd89-4488-887c-2a7703ba26a5",
   "metadata": {},
   "outputs": [],
   "source": [
    "x0 = jnp.reshape(\n",
    "    samplers.halton_uniform(\n",
    "        distributions.uniform.uniform(bounds[:, 0], bounds[:, 1])\n",
    "    )(\n",
    "        sampler_key,\n",
    "        100 * 1,\n",
    "    ),\n",
    "    (100, 1, -1)\n",
    ")"
   ]
  },
  {
   "cell_type": "code",
   "execution_count": null,
   "id": "501e6a38-6caf-495b-a77b-fa01b8a33804",
   "metadata": {},
   "outputs": [],
   "source": [
    "def optimize(x_train, y_train, c_train):\n",
    "    def model(params):\n",
    "        return models.outcome_transformed(\n",
    "            models.gaussian_process_regression(\n",
    "                means.constant(params['mean']),\n",
    "                kernels.scaled(\n",
    "                    kernels.matern_five_halves(params['length_scale']),\n",
    "                    params['amplitude'],\n",
    "                ),\n",
    "            )(\n",
    "                x_train,\n",
    "                y_train,\n",
    "            ),\n",
    "            likelihoods.gaussian(1e-4),\n",
    "            distributions.multivariate_normal.as_normal,\n",
    "        )\n",
    "\n",
    "    for i in range(5):\n",
    "        feasible = y_train[c_train <= 0]\n",
    "        best = jnp.array(-2.) if not jnp.any(feasible) else jnp.max(feasible)\n",
    "        \n",
    "        objective_params = fit(x_train, y_train)\n",
    "        cost_params = fit(x_train, c_train)\n",
    "\n",
    "        acqf = optimization.construct_log_constrained(\n",
    "            models.joined(\n",
    "                model(objective_params),\n",
    "                model(cost_params),\n",
    "            ),\n",
    "            acquisitions.log_expected_improvement(best),\n",
    "            constraints.log_less_or_equal(0.0),\n",
    "        )\n",
    "        \n",
    "        bfgs = optimizers.bfgs(acqf, bounds, x0, 40)\n",
    "        candidates = bfgs.init(random.fold_in(optimizer_key, i))\n",
    "        next_candidates, values = bfgs.update(candidates)\n",
    "\n",
    "        next_x = next_candidates[jnp.argmax(values)]\n",
    "        next_y = objective(next_x)\n",
    "        next_c = cost(next_x)\n",
    "        \n",
    "        x_train = jnp.vstack([x_train, next_x])\n",
    "        y_train = jnp.hstack([y_train, next_y])\n",
    "        c_train = jnp.hstack([c_train, next_c])\n",
    "\n",
    "    return x_train, y_train, c_train"
   ]
  },
  {
   "cell_type": "code",
   "execution_count": null,
   "id": "761153ba-c748-46d6-9d5d-29839d0089ee",
   "metadata": {},
   "outputs": [],
   "source": [
    "next_x_train, next_y_train, next_c_train = optimize(x_train, y_train, c_train)"
   ]
  }
 ],
 "metadata": {
  "kernelspec": {
   "display_name": "Python 3 (ipykernel)",
   "language": "python",
   "name": "python3"
  },
  "language_info": {
   "codemirror_mode": {
    "name": "ipython",
    "version": 3
   },
   "file_extension": ".py",
   "mimetype": "text/x-python",
   "name": "python",
   "nbconvert_exporter": "python",
   "pygments_lexer": "ipython3",
   "version": "3.11.5"
  }
 },
 "nbformat": 4,
 "nbformat_minor": 5
}
