{
 "cells": [
  {
   "cell_type": "markdown",
   "id": "8479a1ce",
   "metadata": {},
   "source": [
    "# Constrained Airplane Design\n",
    "\n",
    "In this notebook we simulate the design of an airplane's component using constrained bayesian optimsation.\n",
    "\n",
    "We will begin by defining the latent objective function as well as the latent cost function."
   ]
  },
  {
   "cell_type": "code",
   "execution_count": 1,
   "id": "efbc76ff-cfb7-4716-b5ad-0e11ea0a2861",
   "metadata": {},
   "outputs": [],
   "source": [
    "from jax import config\n",
    "\n",
    "# Double precision is highly recommended.\n",
    "config.update(\"jax_enable_x64\", True)\n",
    "\n",
    "from jax import jit\n",
    "from jax import lax\n",
    "from jax import nn\n",
    "from jax import numpy as jnp\n",
    "from jax import random\n",
    "from jax import value_and_grad\n",
    "from jax import vmap\n",
    "\n",
    "import optax\n",
    "\n",
    "from boax.core import distributions, samplers\n",
    "from boax.prediction import kernels, likelihoods, means, models\n",
    "from boax.optimization import acquisitions, constraints, maximizers"
   ]
  },
  {
   "cell_type": "code",
   "execution_count": 2,
   "id": "67fdd6b2-9310-4344-88a4-14f8549801e5",
   "metadata": {},
   "outputs": [],
   "source": [
    "bounds = jnp.array([[0.0, 1.0]] * 4)"
   ]
  },
  {
   "cell_type": "code",
   "execution_count": 3,
   "id": "22efb24e-622f-4f6a-b71c-9565929161dd",
   "metadata": {},
   "outputs": [],
   "source": [
    "def objective(x):\n",
    "    next_x = x.at[:, [2, 3]].set(1 - x[:, [2, 3]]) * 10 - 5\n",
    "    return -0.005 * jnp.sum(next_x**4 - 16 * next_x**2 + 5 * next_x, axis=-1) + 3"
   ]
  },
  {
   "cell_type": "code",
   "execution_count": 4,
   "id": "556bd234-44a7-402d-a4c0-80a4e7f44afe",
   "metadata": {},
   "outputs": [],
   "source": [
    "def cost(x):\n",
    "    i = jnp.arange(2, 5)\n",
    "    next_x = x * 20 - 10\n",
    "    part1 = (next_x[..., 0] - 1)**2\n",
    "    part2 = jnp.sum(i * (2 * next_x[..., 1:]**2 - next_x[..., :-1])**2, axis=-1)\n",
    "\n",
    "    return -(part1 + part2) / 100_000 + 2"
   ]
  },
  {
   "cell_type": "code",
   "execution_count": 5,
   "id": "0d1c25ff-3faa-45e0-ada7-664f7cc895cb",
   "metadata": {},
   "outputs": [],
   "source": [
    "params = {\n",
    "    'mean': jnp.zeros(()),\n",
    "    'length_scale': jnp.zeros((4,)),\n",
    "    'amplitude': jnp.zeros(()),\n",
    "}"
   ]
  },
  {
   "cell_type": "code",
   "execution_count": 6,
   "id": "158a163e-a9f1-4024-9bc8-476f434da558",
   "metadata": {},
   "outputs": [],
   "source": [
    "optimizer = optax.adam(0.01)"
   ]
  },
  {
   "cell_type": "code",
   "execution_count": 7,
   "id": "b28439dd-7651-4087-83b3-85d38e4235b6",
   "metadata": {},
   "outputs": [],
   "source": [
    "def fit(x_train, y_train):\n",
    "    def prior(mean, length_scale, amplitude):\n",
    "        return models.predictive(\n",
    "            models.gaussian_process(\n",
    "                means.constant(mean),\n",
    "                kernels.scaled(kernels.matern_five_halves(nn.softplus(length_scale)), nn.softplus(amplitude)),\n",
    "            ),\n",
    "            likelihoods.gaussian(1e-4)\n",
    "        )\n",
    "\n",
    "    def posterior(mean, length_scale, amplitude):\n",
    "        return models.predictive(\n",
    "            models.gaussian_process_regression(\n",
    "                means.constant(mean),\n",
    "                kernels.scaled(kernels.matern_five_halves(nn.softplus(length_scale)), nn.softplus(amplitude)),\n",
    "            )(\n",
    "                x_train,\n",
    "                y_train,\n",
    "            ),\n",
    "            likelihoods.gaussian(1e-4)\n",
    "        )\n",
    "    \n",
    "    def target_log_prob(params):\n",
    "        mvn = prior(**params)(x_train)\n",
    "        return -jnp.sum(distributions.multivariate_normal.logpdf(mvn, y_train))\n",
    "\n",
    "    def train_step(state, iteration):\n",
    "        loss, grads = value_and_grad(target_log_prob)(state[0])\n",
    "        updates, opt_state = optimizer.update(grads, state[1])\n",
    "        params = optax.apply_updates(state[0], updates)\n",
    "        \n",
    "        return (params, opt_state), loss\n",
    "    \n",
    "    (next_params, next_opt_state), history = lax.scan(\n",
    "        jit(train_step),\n",
    "        (params, optimizer.init(params)),\n",
    "        jnp.arange(500)\n",
    "    )\n",
    "\n",
    "    return posterior(**next_params)"
   ]
  },
  {
   "cell_type": "code",
   "execution_count": 8,
   "id": "be710501-c8b9-417b-8899-e5f647662e3e",
   "metadata": {},
   "outputs": [],
   "source": [
    "num_queries = 5\n",
    "batch_size = 1\n",
    "num_raw_samples = 500\n",
    "num_restarts = 100"
   ]
  },
  {
   "cell_type": "code",
   "execution_count": 9,
   "id": "57fe3b84-1040-4e22-a666-0b9da2bcc756",
   "metadata": {},
   "outputs": [],
   "source": [
    "data_key, optimization_key = random.split(random.key(0))\n",
    "x_train = random.uniform(random.key(0), minval=bounds[:, 0], maxval=bounds[:, 1], shape=(batch_size, 4))\n",
    "y_train = objective(x_train)\n",
    "c_train = cost(x_train)"
   ]
  },
  {
   "cell_type": "code",
   "execution_count": 10,
   "id": "506af9e1-c215-4f49-89aa-120e26f99450",
   "metadata": {
    "scrolled": true
   },
   "outputs": [],
   "source": [
    "for i in range(num_queries):\n",
    "    feasible = y_train[c_train <= 0]\n",
    "    best = jnp.array(-2.) if not jnp.any(feasible) else jnp.max(feasible)\n",
    "\n",
    "    maximizer = maximizers.bfgs(\n",
    "        bounds,\n",
    "        q=batch_size,\n",
    "        num_raw_samples=num_raw_samples,\n",
    "        num_restarts=num_restarts\n",
    "    )\n",
    "\n",
    "    surrogate = fit(x_train, y_train)\n",
    "    lei = acquisitions.log_expected_improvement(\n",
    "        models.outcome_transformed(\n",
    "            vmap(surrogate),\n",
    "            vmap(distributions.multivariate_normal.as_normal)\n",
    "        ),\n",
    "        best=best\n",
    "    )\n",
    "\n",
    "    feasibility = fit(x_train, c_train)\n",
    "    lle = constraints.log_less_or_equal(\n",
    "        models.outcome_transformed(\n",
    "            vmap(feasibility),\n",
    "            vmap(distributions.multivariate_normal.as_normal)\n",
    "        ),\n",
    "        bound=0.0\n",
    "    )\n",
    "    \n",
    "    acqf = acquisitions.log_constrained(lei, lle)\n",
    "\n",
    "    candidates = maximizer.init(acqf, random.fold_in(optimization_key, i))\n",
    "    next_candidates, values = maximizer.update(acqf, candidates)\n",
    "    \n",
    "    next_x = next_candidates[jnp.argmax(values)]\n",
    "    next_y = objective(next_x)\n",
    "    next_c = cost(next_x)\n",
    "\n",
    "    x_train = jnp.vstack([x_train, next_x])\n",
    "    y_train = jnp.hstack([y_train, next_y])\n",
    "    c_train = jnp.hstack([c_train, next_c])"
   ]
  }
 ],
 "metadata": {
  "kernelspec": {
   "display_name": "Python 3 (ipykernel)",
   "language": "python",
   "name": "python3"
  },
  "language_info": {
   "codemirror_mode": {
    "name": "ipython",
    "version": 3
   },
   "file_extension": ".py",
   "mimetype": "text/x-python",
   "name": "python",
   "nbconvert_exporter": "python",
   "pygments_lexer": "ipython3",
   "version": "3.11.5"
  }
 },
 "nbformat": 4,
 "nbformat_minor": 5
}
