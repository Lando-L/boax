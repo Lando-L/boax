{
 "cells": [
  {
   "cell_type": "markdown",
   "id": "8479a1ce",
   "metadata": {},
   "source": [
    "# Constrained Airplane Design\n",
    "\n",
    "In this notebook we simulate the design of an airplane's component using constrained bayesian optimsation.\n",
    "\n",
    "We will begin by defining the latent objective function as well as the latent cost function."
   ]
  },
  {
   "cell_type": "code",
   "execution_count": 1,
   "id": "efbc76ff-cfb7-4716-b5ad-0e11ea0a2861",
   "metadata": {},
   "outputs": [],
   "source": [
    "from jax import config\n",
    "\n",
    "# Double precision is highly recommended.\n",
    "config.update(\"jax_enable_x64\", True)\n",
    "\n",
    "from jax import jit\n",
    "from jax import lax\n",
    "from jax import nn\n",
    "from jax import numpy as jnp\n",
    "from jax import random\n",
    "from jax import value_and_grad\n",
    "\n",
    "import optax\n",
    "\n",
    "from boax.core import distributions, samplers\n",
    "from boax.prediction import kernels, likelihoods, means, models\n",
    "from boax.optimization import acquisitions, constraints, optimizers"
   ]
  },
  {
   "cell_type": "code",
   "execution_count": 2,
   "id": "67fdd6b2-9310-4344-88a4-14f8549801e5",
   "metadata": {},
   "outputs": [],
   "source": [
    "bounds = jnp.array([[0.0, 1.0]] * 4)"
   ]
  },
  {
   "cell_type": "code",
   "execution_count": 3,
   "id": "22efb24e-622f-4f6a-b71c-9565929161dd",
   "metadata": {},
   "outputs": [],
   "source": [
    "def objective(x):\n",
    "    next_x = x.at[:, [2, 3]].set(1 - x[:, [2, 3]]) * 10 - 5\n",
    "    return -0.005 * jnp.sum(next_x**4 - 16 * next_x**2 + 5 * next_x, axis=-1) + 3"
   ]
  },
  {
   "cell_type": "code",
   "execution_count": 4,
   "id": "556bd234-44a7-402d-a4c0-80a4e7f44afe",
   "metadata": {},
   "outputs": [],
   "source": [
    "def cost(x):\n",
    "    i = jnp.arange(2, 5)\n",
    "    next_x = x * 20 - 10\n",
    "    part1 = (next_x[..., 0] - 1)**2\n",
    "    part2 = jnp.sum(i * (2 * next_x[..., 1:]**2 - next_x[..., :-1])**2, axis=-1)\n",
    "\n",
    "    return -(part1 + part2) / 100_000 + 2"
   ]
  },
  {
   "cell_type": "code",
   "execution_count": 7,
   "id": "57fe3b84-1040-4e22-a666-0b9da2bcc756",
   "metadata": {},
   "outputs": [],
   "source": [
    "data_key, sample_key, optimization_key = random.split(random.key(0), 3)\n",
    "x_train = random.uniform(random.key(0), minval=bounds[:, 0], maxval=bounds[:, 1], shape=(10, 4))\n",
    "y_train = objective(x_train)\n",
    "c_train = cost(x_train)"
   ]
  },
  {
   "cell_type": "code",
   "execution_count": 8,
   "id": "0d1c25ff-3faa-45e0-ada7-664f7cc895cb",
   "metadata": {},
   "outputs": [],
   "source": [
    "params = {\n",
    "    'mean': jnp.zeros(()),\n",
    "    'length_scale': jnp.zeros((4,)),\n",
    "    'amplitude': jnp.zeros(()),\n",
    "}"
   ]
  },
  {
   "cell_type": "code",
   "execution_count": 9,
   "id": "158a163e-a9f1-4024-9bc8-476f434da558",
   "metadata": {},
   "outputs": [],
   "source": [
    "adam = optax.adam(0.01)"
   ]
  },
  {
   "cell_type": "code",
   "execution_count": 10,
   "id": "b28439dd-7651-4087-83b3-85d38e4235b6",
   "metadata": {},
   "outputs": [],
   "source": [
    "def fit(x_train, y_train):\n",
    "    def model(mean, length_scale, amplitude):\n",
    "        return models.predictive(\n",
    "            models.gaussian_process(\n",
    "                means.constant(mean),\n",
    "                kernels.scaled(\n",
    "                    kernels.matern_five_halves(nn.softplus(length_scale)),\n",
    "                    nn.softplus(amplitude),\n",
    "                ),\n",
    "            ),\n",
    "            likelihoods.gaussian(1e-4)\n",
    "        )\n",
    "    \n",
    "    def target_log_prob(params):\n",
    "        mvn = model(**params)(x_train)\n",
    "        return -jnp.sum(distributions.multivariate_normal.logpdf(mvn, y_train))\n",
    "\n",
    "    def train_step(state, iteration):\n",
    "        loss, grads = value_and_grad(target_log_prob)(state[0])\n",
    "        updates, opt_state = adam.update(grads, state[1])\n",
    "        params = optax.apply_updates(state[0], updates)\n",
    "        \n",
    "        return (params, opt_state), loss\n",
    "    \n",
    "    return lax.scan(\n",
    "        jit(train_step),\n",
    "        (params, adam.init(params)),\n",
    "        jnp.arange(500)\n",
    "    )"
   ]
  },
  {
   "cell_type": "code",
   "execution_count": 11,
   "id": "54584ed8-10cd-4895-b6e5-328db3808e23",
   "metadata": {},
   "outputs": [],
   "source": [
    "q, num_samples, raw_samples = 1, 40, 100"
   ]
  },
  {
   "cell_type": "code",
   "execution_count": 12,
   "id": "be710501-c8b9-417b-8899-e5f647662e3e",
   "metadata": {},
   "outputs": [],
   "source": [
    "num_queries = 5\n",
    "num_iterations = num_queries // 1"
   ]
  },
  {
   "cell_type": "code",
   "execution_count": 13,
   "id": "1932a2c0-8ea9-4784-8d4b-d1ed2c4bc1d5",
   "metadata": {},
   "outputs": [],
   "source": [
    "x0 = jnp.reshape(\n",
    "    samplers.halton_uniform(distributions.uniform.uniform(bounds[:, 0], bounds[:, 1]))(\n",
    "        sample_key,\n",
    "        raw_samples * q,\n",
    "    ),\n",
    "    (raw_samples, q, -1)\n",
    ")"
   ]
  },
  {
   "cell_type": "code",
   "execution_count": 14,
   "id": "54de3d86-4502-4f79-8c97-ef0ed65b3053",
   "metadata": {},
   "outputs": [],
   "source": [
    "for i in range(num_queries):\n",
    "    feasible = y_train[c_train <= 0]\n",
    "    best = jnp.array(-2.) if not jnp.any(feasible) else jnp.max(feasible)\n",
    "\n",
    "    (objective_params, _), _ = fit(x_train, y_train)\n",
    "    (cost_params, _), _ = fit(x_train, c_train)\n",
    "\n",
    "    acqf = optimizers.construct_log_constrained(\n",
    "        models.joined(\n",
    "            models.outcome_transformed(\n",
    "                models.predictive(\n",
    "                    models.gaussian_process_regression(\n",
    "                        means.constant(objective_params['mean']),\n",
    "                        kernels.scaled(\n",
    "                            kernels.matern_five_halves(nn.softplus(objective_params['length_scale'])),\n",
    "                            nn.softplus(objective_params['amplitude']),\n",
    "                        ),\n",
    "                    )(\n",
    "                        x_train,\n",
    "                        y_train,\n",
    "                    ),\n",
    "                    likelihoods.gaussian(1e-4)\n",
    "                ),\n",
    "                distributions.multivariate_normal.as_normal\n",
    "            ),\n",
    "            models.outcome_transformed(\n",
    "                models.predictive(\n",
    "                    models.gaussian_process_regression(\n",
    "                        means.constant(cost_params['mean']),\n",
    "                        kernels.scaled(\n",
    "                            kernels.matern_five_halves(nn.softplus(cost_params['length_scale'])),\n",
    "                            nn.softplus(cost_params['amplitude']),\n",
    "                        ),\n",
    "                    )(\n",
    "                        x_train,\n",
    "                        c_train\n",
    "                    ),\n",
    "                    likelihoods.gaussian(1e-4)\n",
    "                ),\n",
    "                distributions.multivariate_normal.as_normal,\n",
    "            )\n",
    "        ),\n",
    "        acquisitions.log_expected_improvement(best),\n",
    "        constraints.log_less_or_equal(0.0)\n",
    "    )\n",
    "\n",
    "    bfgs = optimizers.bfgs(\n",
    "        acqf,\n",
    "        bounds,\n",
    "        x0,\n",
    "        num_samples,\n",
    "    )\n",
    "\n",
    "    candidates = bfgs.init(random.fold_in(optimization_key, i))\n",
    "    next_candidates, values = bfgs.update(candidates)\n",
    "    \n",
    "    next_x = next_candidates[jnp.argmax(values)]\n",
    "    next_y = objective(next_x)\n",
    "    next_c = cost(next_x)\n",
    "\n",
    "    x_train = jnp.vstack([x_train, next_x])\n",
    "    y_train = jnp.hstack([y_train, next_y])\n",
    "    c_train = jnp.hstack([c_train, next_c])"
   ]
  }
 ],
 "metadata": {
  "kernelspec": {
   "display_name": "Python 3 (ipykernel)",
   "language": "python",
   "name": "python3"
  },
  "language_info": {
   "codemirror_mode": {
    "name": "ipython",
    "version": 3
   },
   "file_extension": ".py",
   "mimetype": "text/x-python",
   "name": "python",
   "nbconvert_exporter": "python",
   "pygments_lexer": "ipython3",
   "version": "3.11.7"
  }
 },
 "nbformat": 4,
 "nbformat_minor": 5
}
