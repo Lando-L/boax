{
 "cells": [
  {
   "cell_type": "markdown",
   "id": "b14b8e7c-79f8-491c-ad6e-7a57c1103425",
   "metadata": {},
   "source": [
    "# Getting Started\n",
    "\n",
    "In this notebook we use boax to demonstrate a single step of a typical bayesion optimization process.\n",
    "\n",
    "We will begin by defining the latent objective function we want to maximize and its bounds."
   ]
  },
  {
   "cell_type": "code",
   "execution_count": 1,
   "id": "b9c736af-ef31-4b7c-bfc1-0483e70ca346",
   "metadata": {},
   "outputs": [],
   "source": [
    "from jax import config\n",
    "\n",
    "# Double precision is highly recommended.\n",
    "config.update(\"jax_enable_x64\", True)\n",
    "\n",
    "from jax import jit\n",
    "from jax import lax\n",
    "from jax import nn\n",
    "from jax import numpy as jnp\n",
    "from jax import random\n",
    "from jax import value_and_grad\n",
    "from jax import vmap\n",
    "\n",
    "import optax\n",
    "\n",
    "from boax.core import distributions, samplers\n",
    "from boax.prediction import kernels, likelihoods, means, models\n",
    "from boax.optimization import acquisitions, maximizers"
   ]
  },
  {
   "cell_type": "markdown",
   "id": "3c3c4882-c610-4448-8699-545cecb97631",
   "metadata": {},
   "source": [
    "As our latent objective function we chose a sinusoid that we aim to maximize in the interval of [-3, 3]."
   ]
  },
  {
   "cell_type": "code",
   "execution_count": 2,
   "id": "ba0aa909-2832-47e2-9427-01cd163b712d",
   "metadata": {},
   "outputs": [],
   "source": [
    "bounds = jnp.array([[0.0, 1.0]])"
   ]
  },
  {
   "cell_type": "code",
   "execution_count": 3,
   "id": "5385417b-ebb4-4e75-89aa-0215d21e968c",
   "metadata": {},
   "outputs": [],
   "source": [
    "def objective(x):\n",
    "  return 1 - jnp.linalg.norm(x - 0.5)"
   ]
  },
  {
   "cell_type": "markdown",
   "id": "00407e4b-1c72-4540-a08a-accd1216d277",
   "metadata": {},
   "source": [
    "To create the observation training data we sample random points from a uniform distribution, evaluate the objective functions at those points, and finish by adding gaussian noise."
   ]
  },
  {
   "cell_type": "code",
   "execution_count": 4,
   "id": "bce6f727-86ed-4f31-aeda-ea380ee228fe",
   "metadata": {},
   "outputs": [],
   "source": [
    "data_key, maximizer_key = random.split(random.key(0))\n",
    "\n",
    "x_train = random.uniform(random.fold_in(data_key, 0), minval=bounds[:, 0], maxval=bounds[:, 1], shape=(10, 1))\n",
    "y_train = nn.standardize(objective(x_train) + 0.1 * random.normal(random.fold_in(data_key, 1), shape=(10,)))"
   ]
  },
  {
   "cell_type": "markdown",
   "id": "dd846011-f012-4d34-8529-c74ede9a6adf",
   "metadata": {},
   "source": [
    "## Fitting a Gaussian Process model to the data\n",
    "\n",
    "With the observations in place, we can now focus on constructing a Gaussian Process model and fit it to the data. For this example we choose a simple setup of a constant zero mean function and a scaled RBF kernel. Note that we use the softplus function to constrain some of the models' hyperparameters to be strictly positive."
   ]
  },
  {
   "cell_type": "code",
   "execution_count": 5,
   "id": "d076f8a7-24cf-4155-80d9-21b796531544",
   "metadata": {},
   "outputs": [],
   "source": [
    "params = {\n",
    "  'amplitude': jnp.zeros(()),\n",
    "  'length_scale': jnp.zeros(()),\n",
    "  'noise': jnp.array(-5.),\n",
    "}"
   ]
  },
  {
   "cell_type": "code",
   "execution_count": 6,
   "id": "38ee0023-19ed-4c4b-b35f-49e3b8c3647e",
   "metadata": {},
   "outputs": [],
   "source": [
    "optimizer = optax.adam(0.01)"
   ]
  },
  {
   "cell_type": "markdown",
   "id": "affecb90-c62a-4d25-97eb-fb601691843f",
   "metadata": {},
   "source": [
    "Next we initialise the models' hyperparameters, the optimizer, and fit the model to the observations."
   ]
  },
  {
   "cell_type": "code",
   "execution_count": 7,
   "id": "8ecbe1b4-adcb-424c-ba73-e92467348cd3",
   "metadata": {},
   "outputs": [],
   "source": [
    "def fit(x_train, y_train):\n",
    "    def model(amplitude, length_scale, noise):\n",
    "        return models.predictive(\n",
    "            models.gaussian_process(\n",
    "                means.zero(),\n",
    "                kernels.scaled(\n",
    "                    kernels.rbf(nn.softplus(length_scale)),\n",
    "                    nn.softplus(amplitude)\n",
    "                ),\n",
    "            ),\n",
    "            likelihoods.gaussian(nn.softplus(noise))\n",
    "        )\n",
    "    \n",
    "    def target_log_prob(params):\n",
    "        mvn = model(**params)(x_train)\n",
    "        return -jnp.sum(distributions.multivariate_normal.logpdf(mvn, y_train))\n",
    "\n",
    "    def train_step(state, iteration):\n",
    "        loss, grads = value_and_grad(target_log_prob)(state[0])\n",
    "        updates, opt_state = optimizer.update(grads, state[1])\n",
    "        params = optax.apply_updates(state[0], updates)\n",
    "        \n",
    "        return (params, opt_state), loss\n",
    "    \n",
    "    return lax.scan(\n",
    "        jit(train_step),\n",
    "        (params, optimizer.init(params)),\n",
    "        jnp.arange(500)\n",
    "    )"
   ]
  },
  {
   "cell_type": "code",
   "execution_count": 8,
   "id": "1b8b89cb-1769-4d35-9583-7515325b0f95",
   "metadata": {},
   "outputs": [],
   "source": [
    "(next_params, next_opt_state), history = fit(x_train, y_train)"
   ]
  },
  {
   "cell_type": "code",
   "execution_count": null,
   "id": "084a95dc-0dc1-4340-b1a4-01235e16c8f9",
   "metadata": {},
   "outputs": [],
   "source": [
    "surrogate = models.predictive(\n",
    "    models.gaussian_process_regression(\n",
    "        means.zero(),\n",
    "        kernels.scaled(\n",
    "            kernels.rbf(nn.softplus(next_params['length_scale'])),\n",
    "            nn.softplus(next_params['amplitude'])\n",
    "        ),\n",
    "    )(\n",
    "        x_train,\n",
    "        y_train,\n",
    "    ),\n",
    "    likelihoods.gaussian(nn.softplus(next_params['noise']))\n",
    ")"
   ]
  },
  {
   "cell_type": "code",
   "execution_count": null,
   "id": "6cde3708-158e-42cb-a249-d9eec22fb7d3",
   "metadata": {},
   "outputs": [],
   "source": [
    "acqf = acquisitions.upper_confidence_bound(\n",
    "    models.outcome_transformed(\n",
    "        vmap(surrogate),\n",
    "        vmap(distributions.multivariate_normal.as_normal),\n",
    "    ),\n",
    "    beta=2.0\n",
    ")"
   ]
  },
  {
   "cell_type": "code",
   "execution_count": null,
   "id": "c032712e-a13d-4585-ab94-52b043db47a7",
   "metadata": {},
   "outputs": [],
   "source": [
    "maximizer = maximizers.bfgs(bounds, q=1, num_raw_samples=20, num_restarts=5)"
   ]
  },
  {
   "cell_type": "code",
   "execution_count": null,
   "id": "b858a9f2-9094-4025-ab43-5d1e20c0fe62",
   "metadata": {},
   "outputs": [],
   "source": [
    "candidates = maximizer.init(acqf, maximizer_key)"
   ]
  },
  {
   "cell_type": "code",
   "execution_count": null,
   "id": "15342d06-f7e1-4f78-a02f-dcf6cfa0cbd1",
   "metadata": {},
   "outputs": [],
   "source": [
    "next_candidates, values = maximizer.update(acqf, candidates)"
   ]
  },
  {
   "cell_type": "code",
   "execution_count": 9,
   "id": "f4bf75fc-ba97-46fe-9c71-ad3be750c8b4",
   "metadata": {},
   "outputs": [],
   "source": [
    "s, n, q, d = 32, 10, 3, 1"
   ]
  },
  {
   "cell_type": "code",
   "execution_count": 10,
   "id": "4bccd60c-2daf-48fe-9a75-5d11213c30d4",
   "metadata": {},
   "outputs": [],
   "source": [
    "candidates = random.uniform(random.key(2), shape=(n, q, d))"
   ]
  },
  {
   "cell_type": "code",
   "execution_count": 11,
   "id": "d357fd59-00a7-4db0-aaa3-76efc5f9806e",
   "metadata": {},
   "outputs": [
    {
     "data": {
      "text/plain": [
       "(10, 3, 1)"
      ]
     },
     "execution_count": 11,
     "metadata": {},
     "output_type": "execute_result"
    }
   ],
   "source": [
    "candidates.shape"
   ]
  },
  {
   "cell_type": "code",
   "execution_count": 12,
   "id": "9a3b293c-a4aa-44e0-90bd-134202d4a6e4",
   "metadata": {},
   "outputs": [],
   "source": [
    "base_samples = random.normal(random.key(3), shape=(s, q))"
   ]
  },
  {
   "cell_type": "code",
   "execution_count": 13,
   "id": "fc626964-d888-449c-a78a-7a8c97bf8f32",
   "metadata": {},
   "outputs": [
    {
     "data": {
      "text/plain": [
       "(32, 3)"
      ]
     },
     "execution_count": 13,
     "metadata": {},
     "output_type": "execute_result"
    }
   ],
   "source": [
    "base_samples.shape"
   ]
  },
  {
   "cell_type": "code",
   "execution_count": 14,
   "id": "1aebfd88-3420-4127-a376-412e9d1b2853",
   "metadata": {},
   "outputs": [],
   "source": [
    "fantasy_index_points = random.uniform(random.key(4), shape=(n, s, 1, d))"
   ]
  },
  {
   "cell_type": "code",
   "execution_count": 15,
   "id": "91a0e2e2-d0ea-4055-b4f9-68ad1e6cc31b",
   "metadata": {},
   "outputs": [
    {
     "data": {
      "text/plain": [
       "(10, 32, 1, 1)"
      ]
     },
     "execution_count": 15,
     "metadata": {},
     "output_type": "execute_result"
    }
   ],
   "source": [
    "fantasy_index_points.shape"
   ]
  },
  {
   "cell_type": "code",
   "execution_count": 16,
   "id": "bccba722-5afe-4f67-94da-2e12d1da93ad",
   "metadata": {},
   "outputs": [],
   "source": [
    "sampled = models.sampled(\n",
    "    models.gaussian_process_regression(\n",
    "        means.zero(),\n",
    "        kernels.scaled(\n",
    "            kernels.rbf(nn.softplus(next_params['length_scale'])),\n",
    "            nn.softplus(next_params['amplitude'])\n",
    "        ),\n",
    "    )(\n",
    "        x_train,\n",
    "        y_train,\n",
    "    ),\n",
    "    distributions.multivariate_normal.sample,\n",
    "    base_samples\n",
    ")"
   ]
  },
  {
   "cell_type": "code",
   "execution_count": 17,
   "id": "584e88cf-deff-4341-931b-9b37c71af9d9",
   "metadata": {},
   "outputs": [],
   "source": [
    "observations = vmap(sampled)(candidates)"
   ]
  },
  {
   "cell_type": "code",
   "execution_count": 18,
   "id": "dee86160-eda7-49fd-80f5-1f06ae20d973",
   "metadata": {},
   "outputs": [
    {
     "data": {
      "text/plain": [
       "(10, 3, 1)"
      ]
     },
     "execution_count": 18,
     "metadata": {},
     "output_type": "execute_result"
    }
   ],
   "source": [
    "candidates.shape"
   ]
  },
  {
   "cell_type": "code",
   "execution_count": 19,
   "id": "57e9a314-4340-478e-8645-25b44511d145",
   "metadata": {},
   "outputs": [
    {
     "data": {
      "text/plain": [
       "(10, 32, 3)"
      ]
     },
     "execution_count": 19,
     "metadata": {},
     "output_type": "execute_result"
    }
   ],
   "source": [
    "observations.shape"
   ]
  },
  {
   "cell_type": "code",
   "execution_count": 20,
   "id": "57c03276-93c1-442d-826d-d625b654c04d",
   "metadata": {},
   "outputs": [],
   "source": [
    "fantasized = models.gaussian_process_fantasy(\n",
    "    means.zero(),\n",
    "    kernels.scaled(\n",
    "        kernels.rbf(nn.softplus(next_params['length_scale'])),\n",
    "        nn.softplus(next_params['amplitude'])\n",
    "    ),\n",
    ")(\n",
    "    candidates,\n",
    "    observations,\n",
    ")"
   ]
  },
  {
   "cell_type": "code",
   "execution_count": 21,
   "id": "3c51f6e3-be04-48fc-849c-be27f91c6173",
   "metadata": {},
   "outputs": [],
   "source": [
    "output = fantasized(fantasy_index_points)"
   ]
  },
  {
   "cell_type": "code",
   "execution_count": 22,
   "id": "bc0e6c39-75dc-4062-adfa-21e90fb335cc",
   "metadata": {},
   "outputs": [
    {
     "data": {
      "text/plain": [
       "(10, 32, 1)"
      ]
     },
     "execution_count": 22,
     "metadata": {},
     "output_type": "execute_result"
    }
   ],
   "source": [
    "output.mean.shape"
   ]
  },
  {
   "cell_type": "code",
   "execution_count": 23,
   "id": "465cbf63-6a47-41cb-bfcc-56cc3344a0e6",
   "metadata": {},
   "outputs": [],
   "source": [
    "result = models.outcome_transformed(\n",
    "    fantasized,\n",
    "    vmap(vmap(distributions.multivariate_normal.as_normal)),\n",
    ")(fantasy_index_points)"
   ]
  },
  {
   "cell_type": "code",
   "execution_count": 25,
   "id": "b3fd048f-b67e-4198-af97-6ea5d9aa75bb",
   "metadata": {},
   "outputs": [
    {
     "data": {
      "text/plain": [
       "(10, 32, 1)"
      ]
     },
     "execution_count": 25,
     "metadata": {},
     "output_type": "execute_result"
    }
   ],
   "source": [
    "result.loc.shape"
   ]
  },
  {
   "cell_type": "code",
   "execution_count": null,
   "id": "8a5b1589-82bb-4734-a3e3-9a27b18fefe6",
   "metadata": {},
   "outputs": [],
   "source": [
    "acqf = acquisitions.posterior_mean()(result)"
   ]
  },
  {
   "cell_type": "code",
   "execution_count": null,
   "id": "94f6ea11-87d1-4e66-a280-bacdbccf8c5a",
   "metadata": {},
   "outputs": [],
   "source": [
    "result = vmap(models.outcome_transformed(\n",
    "    surrogate,\n",
    "    distributions.multivariate_normal.as_normal,\n",
    "))(candidates)"
   ]
  },
  {
   "cell_type": "code",
   "execution_count": null,
   "id": "5284f224-d6e4-4fcd-aeed-90621ee0db77",
   "metadata": {},
   "outputs": [],
   "source": [
    "acquisitions.probability_of_improvement(0.0)(result)"
   ]
  },
  {
   "cell_type": "code",
   "execution_count": null,
   "id": "01c0f84d-5e98-4fe2-8e52-8fc82e4b3ded",
   "metadata": {},
   "outputs": [],
   "source": [
    "result.loc.shape"
   ]
  },
  {
   "cell_type": "code",
   "execution_count": null,
   "id": "29750cce-cca5-4d5d-b931-ed35d8bbca75",
   "metadata": {},
   "outputs": [],
   "source": []
  }
 ],
 "metadata": {
  "kernelspec": {
   "display_name": "Python 3 (ipykernel)",
   "language": "python",
   "name": "python3"
  },
  "language_info": {
   "codemirror_mode": {
    "name": "ipython",
    "version": 3
   },
   "file_extension": ".py",
   "mimetype": "text/x-python",
   "name": "python",
   "nbconvert_exporter": "python",
   "pygments_lexer": "ipython3",
   "version": "3.11.5"
  }
 },
 "nbformat": 4,
 "nbformat_minor": 5
}
