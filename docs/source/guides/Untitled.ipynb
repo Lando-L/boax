{
 "cells": [
  {
   "cell_type": "code",
   "execution_count": 9,
   "id": "5541eb9f-9834-43ae-91c0-15acf4e57b70",
   "metadata": {},
   "outputs": [],
   "source": [
    "from jax import numpy as jnp\n",
    "from jax import random\n",
    "\n",
    "from boax.prediction import kernels, means, models\n",
    "from boax.util import const"
   ]
  },
  {
   "cell_type": "code",
   "execution_count": 20,
   "id": "95d3f9ee-755c-4992-85dd-5337556253cf",
   "metadata": {},
   "outputs": [],
   "source": [
    "key_1, key_2 = random.split(random.key(0))\n",
    "index_points = random.uniform(key_1, shape=(10, 1), minval=-1, maxval=1)\n",
    "observation_index_points = random.uniform(key_2, shape=(5, 1), minval=-1, maxval=1)\n",
    "observations = jnp.sin(observation_index_points[..., 0]) + jnp.cos(observation_index_points[..., 0])"
   ]
  },
  {
   "cell_type": "code",
   "execution_count": 23,
   "id": "2929e4d1-ff6e-41d9-8c31-bc8ba2a7973d",
   "metadata": {},
   "outputs": [],
   "source": [
    "model = models.gaussian_process_regression(\n",
    "  observation_index_points,\n",
    "  observations,\n",
    "  means.zero(),\n",
    "  kernels.rbf(jnp.array(0.2)),\n",
    "  jnp.array(0.2),\n",
    ")"
   ]
  },
  {
   "cell_type": "code",
   "execution_count": 24,
   "id": "6f071822-950c-4dc0-b472-b6cac713385c",
   "metadata": {},
   "outputs": [
    {
     "data": {
      "text/plain": [
       "(Array([-0.20518558,  0.00151967,  1.1631446 , -0.10359916,  0.13897833,\n",
       "         1.1311573 ,  0.19742526,  0.00142203,  0.02079975,  0.02918658],      dtype=float32),\n",
       " Array([[ 1.71759889e-01,  1.71041873e-04,  1.75843845e-12,\n",
       "          4.32922840e-02,  9.17909020e-08,  2.79247263e-12,\n",
       "          3.44754092e-08,  2.14642918e-04,  4.35918264e-06,\n",
       "          2.48269043e-06],\n",
       "        [ 1.71041873e-04,  9.99993145e-01,  1.31821819e-03,\n",
       "         -3.29662987e-04,  2.19622150e-01,  1.78865448e-03,\n",
       "          1.56491965e-01,  9.97740984e-01,  6.44115627e-01,\n",
       "          5.67718565e-01],\n",
       "        [ 1.75843845e-12,  1.31821819e-03,  1.91351697e-01,\n",
       "         -3.34483418e-12,  8.90367478e-02,  1.98617220e-01,\n",
       "          1.14777476e-01,  1.05092407e-03,  1.90743934e-02,\n",
       "          2.54455134e-02],\n",
       "        [ 4.32922840e-02, -3.29662987e-04, -3.34483418e-12,\n",
       "          1.03197262e-01, -1.74988628e-07, -5.31188071e-12,\n",
       "         -6.56957937e-08, -4.14086942e-04, -8.33448121e-06,\n",
       "         -4.74384024e-06],\n",
       "        [ 9.17909020e-08,  2.19622150e-01,  8.90367478e-02,\n",
       "         -1.74988628e-07,  9.73474681e-01,  1.09650373e-01,\n",
       "          9.46340859e-01,  1.94989383e-01,  7.20335484e-01,\n",
       "          7.89503396e-01],\n",
       "        [ 2.79247263e-12,  1.78865448e-03,  1.98617220e-01,\n",
       "         -5.31188071e-12,  1.09650373e-01,  2.07897708e-01,\n",
       "          1.39581800e-01,  1.43064163e-03,  2.46555433e-02,\n",
       "          3.26593332e-02],\n",
       "        [ 3.44754092e-08,  1.56491965e-01,  1.14777476e-01,\n",
       "         -6.56957937e-08,  9.46340859e-01,  1.39581800e-01,\n",
       "          9.48931754e-01,  1.37243241e-01,  6.08472645e-01,\n",
       "          6.82085812e-01],\n",
       "        [ 2.14642918e-04,  9.97740984e-01,  1.05092407e-03,\n",
       "         -4.14086942e-04,  1.94989383e-01,  1.43064163e-03,\n",
       "          1.37243241e-01,  9.99990284e-01,  6.03462160e-01,\n",
       "          5.27406573e-01],\n",
       "        [ 4.35918264e-06,  6.44115627e-01,  1.90743934e-02,\n",
       "         -8.33448121e-06,  7.20335484e-01,  2.46555433e-02,\n",
       "          6.08472645e-01,  6.03462160e-01,  9.99323606e-01,\n",
       "          9.91136789e-01],\n",
       "        [ 2.48269043e-06,  5.67718565e-01,  2.54455134e-02,\n",
       "         -4.74384024e-06,  7.89503396e-01,  3.26593332e-02,\n",
       "          6.82085812e-01,  5.27406573e-01,  9.91136789e-01,\n",
       "          9.98685718e-01]], dtype=float32))"
      ]
     },
     "execution_count": 24,
     "metadata": {},
     "output_type": "execute_result"
    }
   ],
   "source": [
    "model(index_points)"
   ]
  },
  {
   "cell_type": "code",
   "execution_count": null,
   "id": "172f2895-0047-44be-aabd-a806b0da30a3",
   "metadata": {},
   "outputs": [],
   "source": []
  }
 ],
 "metadata": {
  "kernelspec": {
   "display_name": "Python 3 (ipykernel)",
   "language": "python",
   "name": "python3"
  },
  "language_info": {
   "codemirror_mode": {
    "name": "ipython",
    "version": 3
   },
   "file_extension": ".py",
   "mimetype": "text/x-python",
   "name": "python",
   "nbconvert_exporter": "python",
   "pygments_lexer": "ipython3",
   "version": "3.11.5"
  }
 },
 "nbformat": 4,
 "nbformat_minor": 5
}
