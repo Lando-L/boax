{
 "cells": [
  {
   "cell_type": "markdown",
   "id": "66641bc0-47ba-4690-ad7d-0ab9ce7a0296",
   "metadata": {},
   "source": [
    "# Hyperparameter Tuning\n",
    "\n",
    "This notebook demonstrates how to use `boax` for parallel hyperparameter tuning of a scikit-learn Support Vector Classifier on the iris benchmark dataset."
   ]
  },
  {
   "cell_type": "code",
   "execution_count": 1,
   "id": "de16392f-3223-4fe3-aeeb-696ede7972b2",
   "metadata": {},
   "outputs": [],
   "source": [
    "from jax import config\n",
    "\n",
    "config.update(\"jax_enable_x64\", True)\n",
    "\n",
    "import matplotlib.pyplot as plt\n",
    "from jax import numpy as jnp\n",
    "from sklearn.datasets import load_iris\n",
    "from sklearn.model_selection import train_test_split\n",
    "from sklearn.preprocessing import StandardScaler\n",
    "from sklearn.svm import SVC\n",
    "\n",
    "plt.style.use('bmh')\n",
    "\n",
    "from boax.experiments import optimization"
   ]
  },
  {
   "cell_type": "markdown",
   "id": "d52801d8-ebc8-4bde-899f-098b21054d0b",
   "metadata": {},
   "source": [
    "First we download the iris dataset, split it into test and train datasets, and normalize the values using `StandardScaler`."
   ]
  },
  {
   "cell_type": "code",
   "execution_count": 2,
   "id": "596f9197-8dc1-4f2f-9849-fe4a29f46cbc",
   "metadata": {},
   "outputs": [],
   "source": [
    "iris = load_iris()\n",
    "X = iris.data\n",
    "y = iris.target"
   ]
  },
  {
   "cell_type": "code",
   "execution_count": 3,
   "id": "08959b57-f117-4180-ba3e-9f41fce0f468",
   "metadata": {},
   "outputs": [],
   "source": [
    "X_train, X_test, y_train, y_test = train_test_split(X, y, random_state=0)"
   ]
  },
  {
   "cell_type": "code",
   "execution_count": 4,
   "id": "b119b648-159c-451e-b01a-0d5eca853fae",
   "metadata": {},
   "outputs": [],
   "source": [
    "scaler = StandardScaler()\n",
    "X_train = scaler.fit_transform(X_train)\n",
    "X_test = scaler.transform(X_test)"
   ]
  },
  {
   "cell_type": "markdown",
   "id": "13959e9c-42bb-4bad-8b06-63a756c12c9a",
   "metadata": {},
   "source": [
    "Next we define our objective function which consists of fitting a Support Vector Classifier on the training data given the hyperparameters and evaluating the classifier on the test data."
   ]
  },
  {
   "cell_type": "code",
   "execution_count": 5,
   "id": "280565fb-584a-4ea7-8539-83768685025c",
   "metadata": {},
   "outputs": [],
   "source": [
    "def objective(C, gamma):\n",
    "    svc = SVC(C=C, gamma=gamma, kernel='rbf')\n",
    "    svc.fit(X_train, y_train)\n",
    "    return svc.score(X_test, y_test)"
   ]
  },
  {
   "cell_type": "markdown",
   "id": "31d49fc6-b9b1-4c3d-8852-9cdf4502ce5e",
   "metadata": {},
   "source": [
    "Now we setup the hyperparameter optimisation experiment, by defining the two parameters we want to optimise and the batch size. The batch size defines how many parameterizations we can test in parallel at each step."
   ]
  },
  {
   "cell_type": "code",
   "execution_count": 6,
   "id": "4844b27c-0266-40d5-a74e-9c676dfc05a7",
   "metadata": {},
   "outputs": [],
   "source": [
    "experiment = optimization(\n",
    "    parameters=[\n",
    "        {\n",
    "            'name': 'C',\n",
    "            'type': 'log_range',\n",
    "            'bounds': [1, 1_000],\n",
    "        },\n",
    "        {\n",
    "            'name': 'gamma',\n",
    "            'type': 'log_range',\n",
    "            'bounds': [1e-4, 1e-3],\n",
    "        },\n",
    "    ],\n",
    "    batch_size=4,\n",
    ")"
   ]
  },
  {
   "cell_type": "markdown",
   "id": "adca7b28-d00b-4960-871c-9ac2008a397f",
   "metadata": {},
   "source": [
    "Next we initialise the step and results values by setting them to `None` and an empty list."
   ]
  },
  {
   "cell_type": "code",
   "execution_count": 7,
   "id": "6183ce88-2e52-437f-8924-d9d2a43a7238",
   "metadata": {},
   "outputs": [],
   "source": [
    "step, results = None, []"
   ]
  },
  {
   "cell_type": "markdown",
   "id": "5572b472-811f-4736-aeb7-25ae6cc75a62",
   "metadata": {},
   "source": [
    "Finally we run the experiment. For demonstration purposes we run the experiment for 25 steps and a batch size of 4, which requires a total of 100 training and evaluation runs. To make the implementation simpler we are not actually running the training and evaluation of the Support Vector Classifier in parallel, however in a more realistic scenario with a larger model with many parameters we should parallelise the training for faster conversion."
   ]
  },
  {
   "cell_type": "code",
   "execution_count": 8,
   "id": "269d0b40-25ce-40ab-aa45-f91aa549cef5",
   "metadata": {},
   "outputs": [
    {
     "name": "stdout",
     "output_type": "stream",
     "text": [
      "........................."
     ]
    }
   ],
   "source": [
    "for _ in range(25):\n",
    "    # Print progress\n",
    "    print('.', end='')\n",
    "\n",
    "    # Retrieve next parameterizations to evaluate\n",
    "    step, parameterizations = experiment.next(step, results)\n",
    "\n",
    "    # Evaluate parameterizations\n",
    "    evaluations = [\n",
    "        objective(**parameterization)\n",
    "        for parameterization in parameterizations\n",
    "    ]\n",
    "    \n",
    "    results = list(\n",
    "        zip(parameterizations, evaluations)\n",
    "    )"
   ]
  },
  {
   "cell_type": "code",
   "execution_count": 9,
   "id": "d71c2789-371d-4821-a6be-51eda73ba604",
   "metadata": {},
   "outputs": [
    {
     "data": {
      "text/plain": [
       "({'C': 1.0, 'gamma': 0.00010000000000000009}, 0.11405385237628252)"
      ]
     },
     "execution_count": 9,
     "metadata": {},
     "output_type": "execute_result"
    }
   ],
   "source": [
    "# Predicted best\n",
    "experiment.best(step)"
   ]
  }
 ],
 "metadata": {
  "kernelspec": {
   "display_name": "Python 3 (ipykernel)",
   "language": "python",
   "name": "python3"
  },
  "language_info": {
   "codemirror_mode": {
    "name": "ipython",
    "version": 3
   },
   "file_extension": ".py",
   "mimetype": "text/x-python",
   "name": "python",
   "nbconvert_exporter": "python",
   "pygments_lexer": "ipython3",
   "version": "3.13.2"
  }
 },
 "nbformat": 4,
 "nbformat_minor": 5
}
