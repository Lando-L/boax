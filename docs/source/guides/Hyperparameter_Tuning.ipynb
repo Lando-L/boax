{
 "cells": [
  {
   "cell_type": "markdown",
   "id": "d9324e79-9d17-4e62-875d-04891121c84b",
   "metadata": {},
   "source": [
    "# Hyperparameter Tuning\n",
    "\n",
    "In this notebook we simulate using boax for a hyperparemter tuning problem of a SVM.\n",
    "\n",
    "We will begin by defining the latent objective function we want to maximize and its bounds."
   ]
  },
  {
   "cell_type": "code",
   "execution_count": 1,
   "id": "07defcc9-2137-421f-a0f4-cb56814310d5",
   "metadata": {},
   "outputs": [],
   "source": [
    "from jax import config\n",
    "\n",
    "# Double precision is highly recommended.\n",
    "config.update(\"jax_enable_x64\", True)\n",
    "\n",
    "from jax import jit\n",
    "from jax import lax\n",
    "from jax import nn\n",
    "from jax import numpy as jnp\n",
    "from jax import random\n",
    "from jax import value_and_grad\n",
    "from jax import vmap\n",
    "\n",
    "import optax\n",
    "\n",
    "from boax.core import distributions, samplers\n",
    "from boax.prediction import kernels, likelihoods, means, models\n",
    "from boax.optimization import acquisitions, maximizers"
   ]
  },
  {
   "cell_type": "markdown",
   "id": "c7603465-52c0-4fb0-9d62-c5c3196fea60",
   "metadata": {},
   "source": [
    "We use a two-dimensional synthetic objective funtion simulating the accuracy of a SVM."
   ]
  },
  {
   "cell_type": "code",
   "execution_count": 2,
   "id": "86c78cd9-ecd4-4952-9286-7eb0701ab6e2",
   "metadata": {},
   "outputs": [],
   "source": [
    "bounds = jnp.array([[0.0, 2.0]] * 2)"
   ]
  },
  {
   "cell_type": "code",
   "execution_count": 3,
   "id": "fa140997-c875-4122-9c23-e030409243bc",
   "metadata": {},
   "outputs": [],
   "source": [
    "def objective(x):\n",
    "    return (\n",
    "        jnp.sin(5 * x[..., 0] / 2 - 2.5) * jnp.cos(2.5 - 5 * x[..., 1])\n",
    "        + (5 * x[..., 1] / 2 + 0.5) ** 2 / 10\n",
    "    ) / 5 + 0.2"
   ]
  },
  {
   "cell_type": "code",
   "execution_count": 4,
   "id": "e248c703-21ef-48cc-84bf-41677ab4bc9f",
   "metadata": {},
   "outputs": [],
   "source": [
    "params = {\n",
    "    'mean': jnp.zeros(()),\n",
    "    'length_scale': jnp.zeros((2,)),\n",
    "    'amplitude': jnp.zeros(()),\n",
    "}"
   ]
  },
  {
   "cell_type": "code",
   "execution_count": 5,
   "id": "f22e83f7-b49c-42cf-9bad-798c6d65d725",
   "metadata": {},
   "outputs": [],
   "source": [
    "optimizer = optax.adam(0.01)"
   ]
  },
  {
   "cell_type": "code",
   "execution_count": 6,
   "id": "cf40579f-c274-4a35-ab14-204c9f284b70",
   "metadata": {},
   "outputs": [],
   "source": [
    "def fit(x_train, y_train):\n",
    "    def model(mean, length_scale, amplitude):\n",
    "        return models.predictive(\n",
    "            models.gaussian_process(\n",
    "                means.constant(mean),\n",
    "                kernels.scaled(kernels.matern_five_halves(nn.softplus(length_scale)), nn.softplus(amplitude)),\n",
    "            ),\n",
    "            likelihoods.gaussian(1e-4)\n",
    "        )\n",
    "        \n",
    "    def target_log_prob(params):\n",
    "        mvn = model(**params)(x_train)\n",
    "        return -jnp.sum(distributions.multivariate_normal.logpdf(mvn, y_train))\n",
    "\n",
    "    def train_step(state, iteration):\n",
    "        loss, grads = value_and_grad(target_log_prob)(state[0])\n",
    "        updates, opt_state = optimizer.update(grads, state[1])\n",
    "        params = optax.apply_updates(state[0], updates)\n",
    "        \n",
    "        return (params, opt_state), loss\n",
    "    \n",
    "    return lax.scan(\n",
    "        jit(train_step),\n",
    "        (params, optimizer.init(params)),\n",
    "        jnp.arange(500)\n",
    "    )"
   ]
  },
  {
   "cell_type": "code",
   "execution_count": 7,
   "id": "03fb2443-463f-46b2-8743-fa4a71540aca",
   "metadata": {},
   "outputs": [],
   "source": [
    "batch_size = 4\n",
    "sample_size = 32\n",
    "num_restarts = 40\n",
    "num_raw_samples = 100"
   ]
  },
  {
   "cell_type": "code",
   "execution_count": 8,
   "id": "1c9367d0-e694-4541-9c8b-dfce3ff389f3",
   "metadata": {},
   "outputs": [],
   "source": [
    "num_queries = 20\n",
    "num_iterations = num_queries // batch_size"
   ]
  },
  {
   "cell_type": "code",
   "execution_count": 9,
   "id": "c1598874-cb6e-4fc4-8e07-34c746cd2821",
   "metadata": {},
   "outputs": [],
   "source": [
    "data_key, sampler_key, optimization_key = random.split(random.key(0), 3)\n",
    "x_train = random.uniform(data_key, minval=bounds[:, 0], maxval=bounds[:, 1], shape=(batch_size, 2))\n",
    "y_train = objective(x_train)"
   ]
  },
  {
   "cell_type": "code",
   "execution_count": 10,
   "id": "836ca9d4-aaea-4d00-9a9a-36caa8ee0b60",
   "metadata": {},
   "outputs": [],
   "source": [
    "raw_base_samples = jnp.reshape(\n",
    "    samplers.halton_normal()(random.fold_in(sampler_key, 0), sample_size * num_raw_samples * batch_size),\n",
    "    (sample_size, num_raw_samples, batch_size)\n",
    ")"
   ]
  },
  {
   "cell_type": "code",
   "execution_count": 11,
   "id": "94dd3dd0-836a-4afb-ab0f-ec81759e3d21",
   "metadata": {},
   "outputs": [],
   "source": [
    "restart_base_samples = jnp.reshape(\n",
    "    samplers.halton_normal()(random.fold_in(sampler_key, 1), sample_size * num_restarts * batch_size),\n",
    "    (sample_size, num_restarts, batch_size)\n",
    ")"
   ]
  },
  {
   "cell_type": "code",
   "execution_count": 12,
   "id": "ec20a90c-cc17-487a-a032-7e183233001a",
   "metadata": {},
   "outputs": [],
   "source": [
    "for i in range(num_iterations):\n",
    "    best = jnp.max(y_train)\n",
    "    \n",
    "    (next_params, _), _ = fit(x_train, y_train)\n",
    "\n",
    "    surrogate = models.predictive(\n",
    "        models.gaussian_process_regression(\n",
    "            means.constant(next_params['mean']),\n",
    "            kernels.scaled(\n",
    "                kernels.matern_five_halves(nn.softplus(next_params['length_scale'])),\n",
    "                nn.softplus(next_params['amplitude'])\n",
    "            ),\n",
    "        )(\n",
    "            x_train,\n",
    "            y_train,\n",
    "        ),\n",
    "        likelihoods.gaussian(1e-4)\n",
    "    )\n",
    "\n",
    "    maximizer = maximizers.bfgs(\n",
    "        bounds,\n",
    "        q=batch_size,\n",
    "        num_raw_samples=num_raw_samples,\n",
    "        num_restarts=num_restarts\n",
    "    )\n",
    "\n",
    "    candidates = maximizer.init(\n",
    "        acquisitions.q_probability_of_improvement(\n",
    "            models.sampled(\n",
    "                vmap(surrogate),\n",
    "                vmap(distributions.multivariate_normal.sample),\n",
    "                raw_base_samples\n",
    "            ),\n",
    "            tau=1.0,\n",
    "            best=best,\n",
    "        ),\n",
    "        random.fold_in(optimization_key, i)\n",
    "    )\n",
    "\n",
    "    next_candidates, values = maximizer.update(\n",
    "        acquisitions.q_probability_of_improvement(\n",
    "            models.sampled(\n",
    "                vmap(surrogate),\n",
    "                vmap(distributions.multivariate_normal.sample),\n",
    "                restart_base_samples\n",
    "            ),\n",
    "            tau=1.0,\n",
    "            best=best,\n",
    "        ),\n",
    "        candidates,\n",
    "    )\n",
    "    \n",
    "    next_x = next_candidates[jnp.argmax(values)]\n",
    "    next_y = objective(next_x)\n",
    "\n",
    "    x_train = jnp.vstack([x_train, next_x])\n",
    "    y_train = jnp.hstack([y_train, next_y])"
   ]
  }
 ],
 "metadata": {
  "kernelspec": {
   "display_name": "Python 3 (ipykernel)",
   "language": "python",
   "name": "python3"
  },
  "language_info": {
   "codemirror_mode": {
    "name": "ipython",
    "version": 3
   },
   "file_extension": ".py",
   "mimetype": "text/x-python",
   "name": "python",
   "nbconvert_exporter": "python",
   "pygments_lexer": "ipython3",
   "version": "3.11.5"
  }
 },
 "nbformat": 4,
 "nbformat_minor": 5
}
