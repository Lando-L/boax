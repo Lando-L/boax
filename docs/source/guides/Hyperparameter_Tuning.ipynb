{
 "cells": [
  {
   "cell_type": "markdown",
   "id": "d9324e79-9d17-4e62-875d-04891121c84b",
   "metadata": {},
   "source": [
    "# Hyperparameter Tuning\n",
    "\n",
    "In this notebook we simulate using boax for a hyperparemter tuning problem of a SVM.\n",
    "\n",
    "We will begin by defining the latent objective function we want to maximize and its bounds."
   ]
  },
  {
   "cell_type": "code",
   "execution_count": null,
   "id": "07defcc9-2137-421f-a0f4-cb56814310d5",
   "metadata": {},
   "outputs": [],
   "source": [
    "from jax import config\n",
    "\n",
    "# Double precision is highly recommended.\n",
    "config.update(\"jax_enable_x64\", True)\n",
    "\n",
    "from jax import jit\n",
    "from jax import lax\n",
    "from jax import nn\n",
    "from jax import numpy as jnp\n",
    "from jax import random\n",
    "from jax import value_and_grad\n",
    "\n",
    "import optax\n",
    "\n",
    "from boax import prediction, optimization\n",
    "from boax.core import distributions, samplers\n",
    "from boax.prediction import kernels, likelihoods, means, models, objectives\n",
    "from boax.optimization import acquisitions, optimizers"
   ]
  },
  {
   "cell_type": "markdown",
   "id": "c7603465-52c0-4fb0-9d62-c5c3196fea60",
   "metadata": {},
   "source": [
    "We use a two-dimensional synthetic objective funtion simulating the accuracy of a SVM."
   ]
  },
  {
   "cell_type": "code",
   "execution_count": null,
   "id": "86c78cd9-ecd4-4952-9286-7eb0701ab6e2",
   "metadata": {},
   "outputs": [],
   "source": [
    "bounds = jnp.array([[0.0, 2.0]] * 2)"
   ]
  },
  {
   "cell_type": "code",
   "execution_count": null,
   "id": "fa140997-c875-4122-9c23-e030409243bc",
   "metadata": {},
   "outputs": [],
   "source": [
    "def objective(x):\n",
    "    return (\n",
    "        jnp.sin(5 * x[..., 0] / 2 - 2.5) * jnp.cos(2.5 - 5 * x[..., 1])\n",
    "        + (5 * x[..., 1] / 2 + 0.5) ** 2 / 10\n",
    "    ) / 5 + 0.2"
   ]
  },
  {
   "cell_type": "code",
   "execution_count": null,
   "id": "0e95d8b6-ece4-42bd-acaf-c5e723a07e56",
   "metadata": {},
   "outputs": [],
   "source": [
    "data_key, sampler_key, optimizer_key = random.split(random.key(0), 3)\n",
    "x_train = random.uniform(data_key, minval=bounds[:, 0], maxval=bounds[:, 1], shape=(10, 2))\n",
    "y_train = objective(x_train)"
   ]
  },
  {
   "cell_type": "code",
   "execution_count": null,
   "id": "e248c703-21ef-48cc-84bf-41677ab4bc9f",
   "metadata": {},
   "outputs": [],
   "source": [
    "params = {\n",
    "    'mean': jnp.zeros(()),\n",
    "    'length_scale': jnp.zeros((2,)),\n",
    "    'amplitude': jnp.zeros(()),\n",
    "}"
   ]
  },
  {
   "cell_type": "code",
   "execution_count": null,
   "id": "f22e83f7-b49c-42cf-9bad-798c6d65d725",
   "metadata": {},
   "outputs": [],
   "source": [
    "adam = optax.adam(0.01)"
   ]
  },
  {
   "cell_type": "code",
   "execution_count": null,
   "id": "cf40579f-c274-4a35-ab14-204c9f284b70",
   "metadata": {},
   "outputs": [],
   "source": [
    "def fit(x_train, y_train):\n",
    "    def model(params):\n",
    "        return models.outcome_transformed(\n",
    "            models.gaussian_process(\n",
    "                means.constant(params['mean']),\n",
    "                kernels.scaled(\n",
    "                    kernels.matern_five_halves(params['length_scale']),\n",
    "                    params['amplitude'],\n",
    "                ),\n",
    "            ),\n",
    "            likelihoods.gaussian(1e-4)\n",
    "        )\n",
    "\n",
    "    def objective(params):\n",
    "        return objectives.negative_log_likelihood(\n",
    "            distributions.multivariate_normal.logpdf\n",
    "        )\n",
    "\n",
    "    def projection(params):\n",
    "        return {\n",
    "            'mean': params['mean'],\n",
    "            'amplitude': nn.softplus(params['amplitude']),\n",
    "            'length_scale': nn.softplus(params['length_scale']),\n",
    "        }\n",
    "        \n",
    "    def step(state, iteration):\n",
    "        loss_fn = prediction.construct(model, objective, projection)\n",
    "        loss, grads = value_and_grad(loss_fn)(state[0], x_train, y_train)\n",
    "        updates, opt_state = adam.update(grads, state[1])\n",
    "        params = optax.apply_updates(state[0], updates)\n",
    "        \n",
    "        return (params, opt_state), loss\n",
    "    \n",
    "    (next_params, _), _ = lax.scan(\n",
    "        jit(step),\n",
    "        (params, adam.init(params)),\n",
    "        jnp.arange(500)\n",
    "    )\n",
    "\n",
    "    return projection(next_params)"
   ]
  },
  {
   "cell_type": "code",
   "execution_count": null,
   "id": "59a14a64-8b69-41c2-b8a6-c035dc9f98f6",
   "metadata": {},
   "outputs": [],
   "source": [
    "base_samples = jnp.reshape(\n",
    "    samplers.halton_normal()(\n",
    "        random.fold_in(sampler_key, 0),\n",
    "        32 * 4,\n",
    "    ),\n",
    "    (32, 4)\n",
    ")"
   ]
  },
  {
   "cell_type": "code",
   "execution_count": null,
   "id": "9854f6b4-6b8a-4dfb-a59e-9caf1f0126a9",
   "metadata": {},
   "outputs": [],
   "source": [
    "x0 = jnp.reshape(\n",
    "    samplers.halton_uniform(\n",
    "        distributions.uniform.uniform(bounds[:, 0], bounds[:, 1])\n",
    "    )(\n",
    "        sampler_key,\n",
    "        100 * 4,\n",
    "    ),\n",
    "    (100, 4, -1)\n",
    ")"
   ]
  },
  {
   "cell_type": "code",
   "execution_count": null,
   "id": "28f22061-cd61-4750-87d7-c268390e3ce2",
   "metadata": {},
   "outputs": [],
   "source": [
    "def optimize(x_train, y_train):\n",
    "    def model(params):\n",
    "        return models.sampled(\n",
    "            models.outcome_transformed(\n",
    "                models.gaussian_process_regression(\n",
    "                    means.constant(params['mean']),\n",
    "                    kernels.scaled(\n",
    "                        kernels.matern_five_halves(params['length_scale']),\n",
    "                        params['amplitude'],\n",
    "                    ),\n",
    "                )(\n",
    "                    x_train,\n",
    "                    y_train,\n",
    "                ),\n",
    "                likelihoods.gaussian(1e-4),\n",
    "            ),\n",
    "            distributions.multivariate_normal.sample,\n",
    "            base_samples,\n",
    "        )\n",
    "\n",
    "    for i in range(5):\n",
    "        params = fit(x_train, y_train)\n",
    "\n",
    "        acqf = optimization.construct(\n",
    "            model(params),\n",
    "            acquisitions.q_probability_of_improvement(\n",
    "                tau=1.0,\n",
    "                best=jnp.argmax(y_train)\n",
    "            ),\n",
    "        )\n",
    "        \n",
    "        bfgs = optimizers.bfgs(acqf, bounds, x0, 40)\n",
    "        candidates = bfgs.init(random.fold_in(optimizer_key, i))\n",
    "        next_candidates, values = bfgs.update(candidates)\n",
    "\n",
    "        next_x = next_candidates[jnp.argmax(values)]\n",
    "        next_y = objective(next_x)\n",
    "        \n",
    "        x_train = jnp.vstack([x_train, next_x])\n",
    "        y_train = jnp.hstack([y_train, next_y])\n",
    "\n",
    "    return x_train, y_train"
   ]
  },
  {
   "cell_type": "code",
   "execution_count": null,
   "id": "5dbc341d-fe73-4653-a61a-6386313db742",
   "metadata": {},
   "outputs": [],
   "source": [
    "next_x_train, next_y_train = optimize(x_train, y_train)"
   ]
  }
 ],
 "metadata": {
  "kernelspec": {
   "display_name": "Python 3 (ipykernel)",
   "language": "python",
   "name": "python3"
  },
  "language_info": {
   "codemirror_mode": {
    "name": "ipython",
    "version": 3
   },
   "file_extension": ".py",
   "mimetype": "text/x-python",
   "name": "python",
   "nbconvert_exporter": "python",
   "pygments_lexer": "ipython3",
   "version": "3.11.5"
  }
 },
 "nbformat": 4,
 "nbformat_minor": 5
}
