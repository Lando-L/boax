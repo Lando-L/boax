{
 "cells": [
  {
   "cell_type": "markdown",
   "id": "cc2b4deb-c219-483b-9dc5-d87e6569daaa",
   "metadata": {},
   "source": [
    "# Bandit Optimization\n",
    "\n",
    "In this notebook we use `boax` to run a Multi-Arm Bandit experiment."
   ]
  },
  {
   "cell_type": "code",
   "execution_count": 1,
   "id": "150f4e83-cdb8-4b63-a67c-13ba9622c8a5",
   "metadata": {},
   "outputs": [],
   "source": [
    "import random\n",
    "\n",
    "from jax import config\n",
    "from matplotlib import pyplot as plt\n",
    "\n",
    "config.update(\"jax_enable_x64\", True)\n",
    "plt.style.use('bmh')\n",
    "\n",
    "from boax.experiments import bandit"
   ]
  },
  {
   "cell_type": "code",
   "execution_count": 2,
   "id": "30633d58-e05f-4cfc-a893-ae417daa3a9b",
   "metadata": {},
   "outputs": [],
   "source": [
    "CLICK_RATES = [0.042, 0.03, 0.035, 0.038, 0.045]"
   ]
  },
  {
   "cell_type": "code",
   "execution_count": 3,
   "id": "b164ec99-fb19-4cf9-bebd-cbe518fbc3d2",
   "metadata": {},
   "outputs": [],
   "source": [
    "def objective(variant):\n",
    "    return float(random.random() < CLICK_RATES[variant])"
   ]
  },
  {
   "cell_type": "code",
   "execution_count": 4,
   "id": "e8edaa91-825f-440a-8e84-080e23760ed5",
   "metadata": {},
   "outputs": [],
   "source": [
    "experiment = bandit(\n",
    "    parameters=[\n",
    "        {\n",
    "            'name': 'variant',\n",
    "            'type': 'choice',\n",
    "            'values': [0, 1, 2, 3, 4],\n",
    "        },\n",
    "    ],\n",
    "    method='upper_confidence_bound',\n",
    ")"
   ]
  },
  {
   "cell_type": "code",
   "execution_count": 5,
   "id": "95a8ac60-0d57-4596-bc6f-f1729d22d94c",
   "metadata": {},
   "outputs": [],
   "source": [
    "step, results = None, []"
   ]
  },
  {
   "cell_type": "code",
   "execution_count": 6,
   "id": "8f09a7c7-d485-4e20-ad95-524b0c8700bb",
   "metadata": {},
   "outputs": [
    {
     "name": "stdout",
     "output_type": "stream",
     "text": [
      ".........."
     ]
    }
   ],
   "source": [
    "for i in range(10_000):\n",
    "    # Print progress\n",
    "    if i % 1_000 == 0:\n",
    "        print('.', end='')\n",
    "\n",
    "    # Retrieve next parameterizations to evaluate\n",
    "    step, parameterizations = experiment.next(step, results)\n",
    "\n",
    "    # Evaluate parameterizations\n",
    "    evaluations = [\n",
    "        objective(parameterization['variant'])\n",
    "        for parameterization in parameterizations\n",
    "    ]\n",
    "    \n",
    "    results = list(\n",
    "        zip(parameterizations, evaluations)\n",
    "    )"
   ]
  },
  {
   "cell_type": "code",
   "execution_count": 7,
   "id": "b3e89b3c-02a8-441c-b783-90cd20a75145",
   "metadata": {},
   "outputs": [
    {
     "data": {
      "text/plain": [
       "({'variant': 2}, 0.04068119078874588)"
      ]
     },
     "execution_count": 7,
     "metadata": {},
     "output_type": "execute_result"
    }
   ],
   "source": [
    "# Predicted best\n",
    "experiment.best(step)"
   ]
  },
  {
   "cell_type": "code",
   "execution_count": 8,
   "id": "2ed7bf8f-d4c2-4846-895b-9b60506e8478",
   "metadata": {},
   "outputs": [
    {
     "data": {
      "text/plain": [
       "({'variant': 4}, 0.045)"
      ]
     },
     "execution_count": 8,
     "metadata": {},
     "output_type": "execute_result"
    }
   ],
   "source": [
    "# Actual best\n",
    "{'variant': 4}, CLICK_RATES[4]"
   ]
  }
 ],
 "metadata": {
  "kernelspec": {
   "display_name": "Python 3 (ipykernel)",
   "language": "python",
   "name": "python3"
  },
  "language_info": {
   "codemirror_mode": {
    "name": "ipython",
    "version": 3
   },
   "file_extension": ".py",
   "mimetype": "text/x-python",
   "name": "python",
   "nbconvert_exporter": "python",
   "pygments_lexer": "ipython3",
   "version": "3.11.5"
  }
 },
 "nbformat": 4,
 "nbformat_minor": 5
}
