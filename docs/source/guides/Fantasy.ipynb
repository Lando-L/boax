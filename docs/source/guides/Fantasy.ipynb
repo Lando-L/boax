{
 "cells": [
  {
   "cell_type": "code",
   "execution_count": 1,
   "id": "dfb0ebb4-51da-4dc0-9fc9-9f6ebeef4fd8",
   "metadata": {},
   "outputs": [],
   "source": [
    "from jax import config\n",
    "\n",
    "# Double precision is highly recommended.\n",
    "config.update(\"jax_enable_x64\", True)\n",
    "\n",
    "from functools import partial\n",
    "\n",
    "from jax import jit\n",
    "from jax import lax\n",
    "from jax import nn\n",
    "from jax import numpy as jnp\n",
    "from jax import random\n",
    "from jax import value_and_grad\n",
    "from jax import vmap\n",
    "from jax import scipy\n",
    "\n",
    "import optax\n",
    "\n",
    "from boax.core import distributions, samplers\n",
    "from boax.prediction import kernels, likelihoods, means, models\n",
    "from boax.optimization import acquisitions, maximizers"
   ]
  },
  {
   "cell_type": "code",
   "execution_count": 2,
   "id": "449fc13c-9057-4bac-9219-296eeed00712",
   "metadata": {},
   "outputs": [],
   "source": [
    "bounds = jnp.array([[0.0, 1.0]] * 2)"
   ]
  },
  {
   "cell_type": "code",
   "execution_count": 3,
   "id": "577515d6-a100-485e-b1af-8a2f7886e9b4",
   "metadata": {},
   "outputs": [],
   "source": [
    "def objective(x):\n",
    "    return jnp.sin(2 * jnp.pi * x[..., 0]) * jnp.cos(2 * jnp.pi * x[..., 1])"
   ]
  },
  {
   "cell_type": "code",
   "execution_count": 4,
   "id": "9d664035-c0db-4a74-bd84-1292e86236b2",
   "metadata": {},
   "outputs": [],
   "source": [
    "data_key, sample_key, maximizer_key = random.split(random.key(0), 3)\n",
    "x_train = random.uniform(random.fold_in(data_key, 0), minval=bounds[:, 0], maxval=bounds[:, 1], shape=(20, 2))\n",
    "y_train = nn.standardize(objective(x_train) + random.normal(random.fold_in(data_key, 1), shape=(20,)))"
   ]
  },
  {
   "cell_type": "code",
   "execution_count": 5,
   "id": "496fa7e4-84a2-4dfa-bdfe-dd56fa3f6cf0",
   "metadata": {},
   "outputs": [],
   "source": [
    "def prior(amplitude, length_scale, noise):\n",
    "    return models.predictive(\n",
    "        models.gaussian_process(\n",
    "            means.zero(),\n",
    "            kernels.scaled(kernels.rbf(nn.softplus(length_scale)), nn.softplus(amplitude)),\n",
    "        ),\n",
    "        likelihoods.gaussian(\n",
    "            nn.softplus(noise),\n",
    "        ),\n",
    "    )"
   ]
  },
  {
   "cell_type": "code",
   "execution_count": 6,
   "id": "9ebc79f4-265c-4de9-9d35-99b3d56932ab",
   "metadata": {},
   "outputs": [],
   "source": [
    "def posterior(amplitude, length_scale, noise):\n",
    "    return models.predictive(\n",
    "        models.gaussian_process_regression(\n",
    "            means.zero(),\n",
    "            kernels.scaled(kernels.rbf(nn.softplus(length_scale)), nn.softplus(amplitude)),\n",
    "        )(\n",
    "            x_train,\n",
    "            y_train,\n",
    "        ),\n",
    "        likelihoods.gaussian(\n",
    "            nn.softplus(noise),\n",
    "        ),\n",
    "    )"
   ]
  },
  {
   "cell_type": "code",
   "execution_count": 7,
   "id": "85640d1b-d2ea-4eec-ae77-678801d90736",
   "metadata": {},
   "outputs": [],
   "source": [
    "def target_log_prob(params):\n",
    "    mvn = prior(**params)(x_train)\n",
    "    return -distributions.multivariate_normal.logpdf(mvn, y_train)"
   ]
  },
  {
   "cell_type": "code",
   "execution_count": 8,
   "id": "952a2423-7ed0-49b6-8e2e-40fabec8c5a4",
   "metadata": {},
   "outputs": [],
   "source": [
    "params = {\n",
    "  'amplitude': jnp.zeros(()),\n",
    "  'length_scale': jnp.zeros(()),\n",
    "  'noise': jnp.array(-5.),\n",
    "}"
   ]
  },
  {
   "cell_type": "code",
   "execution_count": 9,
   "id": "2724f612-67b8-40b7-a95b-649da987e2e5",
   "metadata": {},
   "outputs": [],
   "source": [
    "optimizer = optax.adam(0.01)"
   ]
  },
  {
   "cell_type": "code",
   "execution_count": 10,
   "id": "3ca2365a-cf95-4590-b429-83b728c521ed",
   "metadata": {},
   "outputs": [],
   "source": [
    "def train_step(state, iteration):\n",
    "    loss, grads = value_and_grad(target_log_prob)(state[0])\n",
    "    updates, opt_state = optimizer.update(grads, state[1])\n",
    "    params = optax.apply_updates(state[0], updates)\n",
    "\n",
    "    return (params, opt_state), loss"
   ]
  },
  {
   "cell_type": "code",
   "execution_count": 11,
   "id": "65012da7-703f-417f-8b57-2c9c737aaa96",
   "metadata": {},
   "outputs": [],
   "source": [
    "(next_params, next_opt_state), history = lax.scan(\n",
    "    jit(train_step),\n",
    "    (params, optimizer.init(params)),\n",
    "    jnp.arange(500)\n",
    ")"
   ]
  },
  {
   "cell_type": "code",
   "execution_count": 12,
   "id": "08a36d8b-02ee-4697-85f6-cce5055b78e1",
   "metadata": {},
   "outputs": [],
   "source": [
    "s, n, q, d = 128, 10, 3, 2"
   ]
  },
  {
   "cell_type": "code",
   "execution_count": 13,
   "id": "ba6f9496-e63a-4f4a-a2f3-c670f066a7ab",
   "metadata": {},
   "outputs": [],
   "source": [
    "base_samples = jnp.reshape(\n",
    "    samplers.halton_normal()(random.fold_in(sample_key, 0), s * n * q),\n",
    "    (s, n, q)\n",
    ")"
   ]
  },
  {
   "cell_type": "code",
   "execution_count": 14,
   "id": "d1088e97-51b0-4a45-8ae6-2a10ac69e08e",
   "metadata": {},
   "outputs": [],
   "source": [
    "candidates = jnp.reshape(\n",
    "    samplers.halton_uniform(distributions.uniform.uniform(jnp.zeros((2,)), jnp.ones((2,))))(random.fold_in(sample_key, 1), n * q),\n",
    "    (n, q, -1)\n",
    ")"
   ]
  },
  {
   "cell_type": "code",
   "execution_count": 15,
   "id": "59c13d6a-da14-4f91-b77f-b452da595ff1",
   "metadata": {},
   "outputs": [],
   "source": [
    "fantasies = jnp.reshape(\n",
    "    samplers.halton_uniform(distributions.uniform.uniform(jnp.zeros((2,)), jnp.ones((2,))))(random.fold_in(sample_key, 2), s * n),\n",
    "    (s, n, 1, -1)\n",
    ")"
   ]
  },
  {
   "cell_type": "code",
   "execution_count": 16,
   "id": "ee69cfdc-a3ff-4146-a235-b655fd98ffae",
   "metadata": {},
   "outputs": [],
   "source": [
    "surrogate = models.predictive(\n",
    "    models.fantasized(\n",
    "        models.sampled(\n",
    "            vmap(posterior(**next_params)),\n",
    "            vmap(distributions.multivariate_normal.sample),\n",
    "            base_samples\n",
    "        ),\n",
    "        models.gaussian_process_fantasy(\n",
    "            means.zero(),\n",
    "            kernels.scaled(\n",
    "                kernels.rbf(nn.softplus(next_params['length_scale'])),\n",
    "                nn.softplus(next_params['amplitude'])\n",
    "            ),\n",
    "        ),\n",
    "        fantasies\n",
    "    ),\n",
    "    likelihoods.gaussian(\n",
    "        next_params['noise']\n",
    "    )\n",
    ")"
   ]
  },
  {
   "cell_type": "code",
   "execution_count": 19,
   "id": "f05f88d2-62e9-4477-854b-55ff97801d93",
   "metadata": {},
   "outputs": [],
   "source": [
    "acqf = acquisitions.q_knowledge_gradient(\n",
    "    models.outcome_transformed(\n",
    "        surrogate,\n",
    "        vmap(vmap(distributions.multivariate_normal.as_normal))\n",
    "    ),\n",
    "    best=0.0\n",
    ")"
   ]
  },
  {
   "cell_type": "code",
   "execution_count": 22,
   "id": "c42996e9-8c3f-4b3b-a7a6-5289c073636a",
   "metadata": {},
   "outputs": [],
   "source": [
    "values = acqf(candidates)"
   ]
  }
 ],
 "metadata": {
  "kernelspec": {
   "display_name": "Python 3 (ipykernel)",
   "language": "python",
   "name": "python3"
  },
  "language_info": {
   "codemirror_mode": {
    "name": "ipython",
    "version": 3
   },
   "file_extension": ".py",
   "mimetype": "text/x-python",
   "name": "python",
   "nbconvert_exporter": "python",
   "pygments_lexer": "ipython3",
   "version": "3.11.5"
  }
 },
 "nbformat": 4,
 "nbformat_minor": 5
}
